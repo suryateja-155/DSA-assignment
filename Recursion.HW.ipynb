{
 "cells": [
  {
   "cell_type": "code",
   "execution_count": 1,
   "id": "46207c5c-8621-4982-9f7e-6a26338f65b3",
   "metadata": {},
   "outputs": [
    {
     "name": "stdin",
     "output_type": "stream",
     "text": [
      "Enter the number of disks:  1\n"
     ]
    },
    {
     "name": "stdout",
     "output_type": "stream",
     "text": [
      "Move disk 1 from A to C\n"
     ]
    }
   ],
   "source": [
    "def tower_of_hanoi(n, source, auxiliary, destination):\n",
    "    if n == 1:\n",
    "        print(f\"Move disk 1 from {source} to {destination}\")\n",
    "        return\n",
    "    tower_of_hanoi(n - 1, source, destination, auxiliary)\n",
    "    print(f\"Move disk {n} from {source} to {destination}\")\n",
    "    tower_of_hanoi(n - 1, auxiliary, source, destination)\n",
    "\n",
    "n = int(input(\"Enter the number of disks: \"))\n",
    "tower_of_hanoi(n, 'A', 'B', 'C')\n"
   ]
  },
  {
   "cell_type": "code",
   "execution_count": 3,
   "id": "f30ee22c-bddf-475a-a489-98ee29ed6315",
   "metadata": {},
   "outputs": [
    {
     "name": "stdin",
     "output_type": "stream",
     "text": [
      "Enter a number:  2\n"
     ]
    },
    {
     "name": "stdout",
     "output_type": "stream",
     "text": [
      "Sum of digits of 2 is 2\n"
     ]
    }
   ],
   "source": [
    "def sum_of_digits(n):\n",
    "    if n == 0:\n",
    "        return 0\n",
    "    return (n % 10) + sum_of_digits(n // 10)\n",
    "\n",
    "num = int(input(\"Enter a number: \"))\n",
    "print(f\"Sum of digits of {num} is {sum_of_digits(num)}\")\n",
    "\n"
   ]
  },
  {
   "cell_type": "code",
   "execution_count": 5,
   "id": "c34f7c68-e045-4f6c-a7a9-76fd40171367",
   "metadata": {},
   "outputs": [
    {
     "name": "stdin",
     "output_type": "stream",
     "text": [
      "Enter first number:  3\n",
      "Enter second number:  12\n"
     ]
    },
    {
     "name": "stdout",
     "output_type": "stream",
     "text": [
      "GCD of 3 and 12 is 3\n"
     ]
    }
   ],
   "source": [
    "def gcd(a, b):\n",
    "    if b == 0:\n",
    "        return a\n",
    "    return gcd(b, a % b)\n",
    "\n",
    "num1 = int(input(\"Enter first number: \"))\n",
    "num2 = int(input(\"Enter second number: \"))\n",
    "print(f\"GCD of {num1} and {num2} is {gcd(num1, num2)}\")"
   ]
  },
  {
   "cell_type": "code",
   "execution_count": null,
   "id": "dd624e10-9034-481a-b6f2-112ae72d77e5",
   "metadata": {},
   "outputs": [],
   "source": [
    "def even_fibonacci(n):\n",
    "    if n == 0:\n",
    "        return 0\n",
    "    return odd_fibonacci(n - 1) + even_fibonacci(n - 1)\n",
    "\n",
    "def odd_fibonacci(n):\n",
    "    if n == 1:\n",
    "        return 1\n",
    "    return even_fibonacci(n - 1) + odd_fibonacci(n - 1)\n",
    "\n",
    "def fibonacci_series(n):\n",
    "    for i in range(n):\n",
    "        print(even_fibonacci(i) if i % 2 == 0 else odd_fibonacci(i), end=\" \")\n",
    "    print()\n",
    "\n",
    "num = int(input(\"Enter the number of terms: \"))\n",
    "fibonacci_series(num)\n"
   ]
  },
  {
   "cell_type": "code",
   "execution_count": 13,
   "id": "d1a6ebc4-9569-41c9-bdc5-9898a042c5f5",
   "metadata": {},
   "outputs": [
    {
     "name": "stdin",
     "output_type": "stream",
     "text": [
      "Enter a decimal number:  123\n"
     ]
    },
    {
     "name": "stdout",
     "output_type": "stream",
     "text": [
      "Binary equivalent of 123 is 1111011\n"
     ]
    }
   ],
   "source": [
    "def decimal_to_binary(n):\n",
    "    if n == 0:\n",
    "        return \"0\"\n",
    "    elif n == 1:\n",
    "        return \"1\"\n",
    "    else:\n",
    "        return decimal_to_binary(n // 2) + str(n % 2)\n",
    "\n",
    "num = int(input(\"Enter a decimal number: \"))\n",
    "print(f\"Binary equivalent of {num} is {decimal_to_binary(num)}\")\n"
   ]
  },
  {
   "cell_type": "code",
   "execution_count": 17,
   "id": "4632d9f7-ee3d-4856-8733-94cab36b1a34",
   "metadata": {},
   "outputs": [
    {
     "name": "stdin",
     "output_type": "stream",
     "text": [
      "Enter an integer:  122\n"
     ]
    },
    {
     "name": "stdout",
     "output_type": "stream",
     "text": [
      "Number of zeroes in 122 is 0\n"
     ]
    }
   ],
   "source": [
    "def count_zeroes(n):\n",
    "    if n == 0:\n",
    "        return 1  # Special case where the number itself is 0\n",
    "    if n < 10:\n",
    "        return 1 if n == 0 else 0\n",
    "    return (1 if n % 10 == 0 else 0) + count_zeroes(n // 10)\n",
    "\n",
    "num = int(input(\"Enter an integer: \"))\n",
    "print(f\"Number of zeroes in {num} is {count_zeroes(num)}\")\n"
   ]
  },
  {
   "cell_type": "code",
   "execution_count": 19,
   "id": "8a775168-a30f-4f8a-bcf8-fd3f672c6dcc",
   "metadata": {},
   "outputs": [
    {
     "name": "stdin",
     "output_type": "stream",
     "text": [
      "Enter a number:  34\n"
     ]
    },
    {
     "name": "stdout",
     "output_type": "stream",
     "text": [
      "Sum of first 34 natural numbers is 595\n"
     ]
    }
   ],
   "source": [
    "def sum_natural_numbers(n):\n",
    "    if n == 1:\n",
    "        return 1\n",
    "    return n + sum_natural_numbers(n - 1)\n",
    "num = int(input(\"Enter a number: \"))\n",
    "print(f\"Sum of first {num} natural numbers is {sum_natural_numbers(num)}\")\n"
   ]
  },
  {
   "cell_type": "code",
   "execution_count": 21,
   "id": "71f55214-28c7-4c6b-998b-9a70d1d53dee",
   "metadata": {},
   "outputs": [
    {
     "name": "stdout",
     "output_type": "stream",
     "text": [
      "Number of digits in 12345 is 5\n"
     ]
    }
   ],
   "source": [
    "def count_digits(n):\n",
    "    if n == 0:\n",
    "        return 0\n",
    "    else:\n",
    "        return 1 + count_digits(n // 10)\n",
    "\n",
    "number = 12345\n",
    "print(\"Number of digits in\", number, \"is\", count_digits(number))\n"
   ]
  },
  {
   "cell_type": "code",
   "execution_count": 23,
   "id": "c92661bd-ef6c-470e-aa7f-768575dca6f6",
   "metadata": {},
   "outputs": [
    {
     "name": "stdout",
     "output_type": "stream",
     "text": [
      "Number of odd digits in 12345 is 3\n"
     ]
    }
   ],
   "source": [
    "def count_odd_digits(n):\n",
    "    if n == 0:\n",
    "        return 0\n",
    "    else:\n",
    "        last_digit_odd = (n % 10) % 2 != 0\n",
    "        return last_digit_odd + count_odd_digits(n // 10)\n",
    "\n",
    "number = 12345\n",
    "print(\"Number of odd digits in\", number, \"is\", count_odd_digits(number))\n"
   ]
  },
  {
   "cell_type": "code",
   "execution_count": 25,
   "id": "e560c8c1-4942-429a-ab43-11435c5cec53",
   "metadata": {},
   "outputs": [
    {
     "name": "stdout",
     "output_type": "stream",
     "text": [
      "Length of the string is 13\n"
     ]
    }
   ],
   "source": [
    "def string_length(s):\n",
    "    if s == '':\n",
    "        return 0\n",
    "    else:\n",
    "        return 1 + string_length(s[1:])\n",
    "\n",
    "my_string = \"Hello, world!\"\n",
    "print(\"Length of the string is\", string_length(my_string))\n"
   ]
  },
  {
   "cell_type": "code",
   "execution_count": 27,
   "id": "fb64e2b7-0303-48ed-9ff8-286188c7e489",
   "metadata": {},
   "outputs": [
    {
     "name": "stdout",
     "output_type": "stream",
     "text": [
      "Number of digits in the string is 3\n"
     ]
    }
   ],
   "source": [
    "def count_digits_in_string(s):\n",
    "    if s == '':\n",
    "        return 0\n",
    "    else:\n",
    "        first_char_digit = s[0].isdigit()\n",
    "        return first_char_digit + count_digits_in_string(s[1:])\n",
    "my_string = \"Hello123World\"\n",
    "print(\"Number of digits in the string is\", count_digits_in_string(my_string))\n"
   ]
  },
  {
   "cell_type": "code",
   "execution_count": 29,
   "id": "8f5fa3b8-d65b-403b-8c00-ae8104b37719",
   "metadata": {},
   "outputs": [
    {
     "name": "stdout",
     "output_type": "stream",
     "text": [
      "Reversed string is !dlrow ,olleH\n"
     ]
    }
   ],
   "source": [
    "def reverse_string(s):\n",
    "    if s == '':\n",
    "        return ''\n",
    "    else:\n",
    "        return s[-1] + reverse_string(s[:-1])\n",
    "\n",
    "my_string = \"Hello, world!\"\n",
    "print(\"Reversed string is\", reverse_string(my_string))\n"
   ]
  },
  {
   "cell_type": "code",
   "execution_count": null,
   "id": "477bf891-fdf3-4c3b-8f5a-7c9287bb65a4",
   "metadata": {},
   "outputs": [],
   "source": []
  }
 ],
 "metadata": {
  "kernelspec": {
   "display_name": "Python 3 (ipykernel)",
   "language": "python",
   "name": "python3"
  },
  "language_info": {
   "codemirror_mode": {
    "name": "ipython",
    "version": 3
   },
   "file_extension": ".py",
   "mimetype": "text/x-python",
   "name": "python",
   "nbconvert_exporter": "python",
   "pygments_lexer": "ipython3",
   "version": "3.12.4"
  }
 },
 "nbformat": 4,
 "nbformat_minor": 5
}
