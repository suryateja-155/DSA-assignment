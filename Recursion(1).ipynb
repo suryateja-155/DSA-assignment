{
 "cells": [
  {
   "cell_type": "code",
   "execution_count": 1,
   "id": "8c59ed43-3e5e-4e5a-acc0-2d44bb8830f8",
   "metadata": {},
   "outputs": [
    {
     "name": "stdout",
     "output_type": "stream",
     "text": [
      "Tower of Hanoi solution:\n",
      "Move disk 1 from rod A to rod C\n",
      "Move disk 2 from rod A to rod B\n",
      "Move disk 1 from rod C to rod B\n",
      "Move disk 3 from rod A to rod C\n",
      "Move disk 1 from rod B to rod A\n",
      "Move disk 2 from rod B to rod C\n",
      "Move disk 1 from rod A to rod C\n"
     ]
    }
   ],
   "source": [
    "def tower_of_hanoi(n, source, target, auxiliary):\n",
    "    if n == 1:\n",
    "        print(f\"Move disk 1 from rod {source} to rod {target}\")\n",
    "        return\n",
    "    tower_of_hanoi(n - 1, source, auxiliary, target)\n",
    "    print(f\"Move disk {n} from rod {source} to rod {target}\")\n",
    "    tower_of_hanoi(n - 1, auxiliary, target, source)\n",
    "n = 3  \n",
    "source = \"A\"  \n",
    "target = \"C\"\n",
    "auxiliary = \"B\"\n",
    "print(\"Tower of Hanoi solution:\")\n",
    "tower_of_hanoi(n, source, target, auxiliary)"
   ]
  },
  {
   "cell_type": "code",
   "execution_count": 3,
   "id": "cf5fd33d-6c0b-48dd-b810-6853c54046a9",
   "metadata": {},
   "outputs": [
    {
     "name": "stdout",
     "output_type": "stream",
     "text": [
      "[0, 1, 1, 2, 3, 5, 8, 13, 21, 34]\n"
     ]
    }
   ],
   "source": [
    "#iteration\n",
    "def fibonacci(n):\n",
    "    fib_sequence = [0, 1]\n",
    "    while len(fib_sequence) < n:\n",
    "        fib_sequence.append(fib_sequence[-1] + fib_sequence[-2])\n",
    "    return fib_sequence\n",
    "n = 10  \n",
    "print(fibonacci(n))"
   ]
  },
  {
   "cell_type": "code",
   "execution_count": 5,
   "id": "72589dc0-e70b-4060-aafb-c5ebd61cadcd",
   "metadata": {},
   "outputs": [
    {
     "name": "stdout",
     "output_type": "stream",
     "text": [
      "0\n",
      "1\n",
      "1\n",
      "2\n",
      "3\n",
      "5\n",
      "8\n",
      "13\n",
      "21\n",
      "34\n",
      "0\n",
      "1\n",
      "1\n",
      "2\n",
      "3\n",
      "5\n",
      "8\n",
      "13\n",
      "21\n",
      "34\n"
     ]
    }
   ],
   "source": [
    "#recurvsion\n",
    "def fibonacci(n):\n",
    "    if n <= 0:\n",
    "        return \"Input should be a positive integer\"\n",
    "    elif n == 1:\n",
    "        return 0\n",
    "    elif n == 2:\n",
    "        return 1\n",
    "    else:\n",
    "        return fibonacci(n-1) + fibonacci(n-2)\n",
    "n = 10  \n",
    "for i in range(1, n+1):\n",
    "    print(fibonacci(i))\n",
    "def fibonacci(n, memo={}):\n",
    "    if n <= 0:\n",
    "        return \"Input should be a positive integer\"\n",
    "    elif n == 1:\n",
    "        return 0\n",
    "    elif n == 2:\n",
    "        return 1\n",
    "    elif n in memo:\n",
    "        return memo[n]\n",
    "    else:\n",
    "        memo[n] = fibonacci(n-1, memo) + fibonacci(n-2, memo)\n",
    "        return memo[n]\n",
    "n = 10 \n",
    "for i in range(1, n+1):\n",
    "    print(fibonacci(i))"
   ]
  },
  {
   "cell_type": "code",
   "execution_count": 13,
   "id": "64c71f2b-448b-4577-8e7a-1e03ad15c709",
   "metadata": {},
   "outputs": [
    {
     "data": {
      "text/plain": [
       "1"
      ]
     },
     "execution_count": 13,
     "metadata": {},
     "output_type": "execute_result"
    }
   ],
   "source": [
    "# 2. Sum of digits\n",
    "def sum_of_digits(n):\n",
    "    if n == 0:\n",
    "        return 0\n",
    "    return n % 10 + sum_of_digits(n // 10)\n",
    "sum_of_digits(10)"
   ]
  },
  {
   "cell_type": "code",
   "execution_count": 15,
   "id": "cbbf0071-4415-4cbf-b2e4-45c384170a63",
   "metadata": {},
   "outputs": [
    {
     "data": {
      "text/plain": [
       "2"
      ]
     },
     "execution_count": 15,
     "metadata": {},
     "output_type": "execute_result"
    }
   ],
   "source": [
    "# 3. GCD Calculation\n",
    "def gcd(a, b):\n",
    "    if b == 0:\n",
    "        return a\n",
    "    return gcd(b, a % b)\n",
    "gcd(14,36)"
   ]
  },
  {
   "cell_type": "code",
   "execution_count": 17,
   "id": "41280b9e-e290-422b-bcee-17543aa5ff10",
   "metadata": {},
   "outputs": [
    {
     "data": {
      "text/plain": [
       "55"
      ]
     },
     "execution_count": 17,
     "metadata": {},
     "output_type": "execute_result"
    }
   ],
   "source": [
    "# 4. Fibonacci Series (Mutual Recursion)\n",
    "def fibonacci(n):\n",
    "    if n <= 1:\n",
    "        return n\n",
    "    return fibonacci(n - 1) + fibonacci(n - 2)\n",
    "fibonacci(10)"
   ]
  },
  {
   "cell_type": "code",
   "execution_count": 19,
   "id": "58f64879-043f-4689-8e3d-1d39be79afdd",
   "metadata": {},
   "outputs": [
    {
     "data": {
      "text/plain": [
       "'10100'"
      ]
     },
     "execution_count": 19,
     "metadata": {},
     "output_type": "execute_result"
    }
   ],
   "source": [
    "# 5. Decimal to Binary\n",
    "def decimal_to_binary(n):\n",
    "    if n == 0:\n",
    "        return \"\"\n",
    "    return decimal_to_binary(n // 2) + str(n % 2)\n",
    "decimal_to_binary(20)"
   ]
  },
  {
   "cell_type": "code",
   "execution_count": 23,
   "id": "4e90ebd9-dd7d-4486-9769-0a6dd03b3d42",
   "metadata": {},
   "outputs": [
    {
     "data": {
      "text/plain": [
       "1"
      ]
     },
     "execution_count": 23,
     "metadata": {},
     "output_type": "execute_result"
    }
   ],
   "source": [
    "# 6. Count number of zeroes\n",
    "def count_zeroes(n):\n",
    "    if n == 0:\n",
    "        return 1\n",
    "    if n < 10:\n",
    "        return 0\n",
    "    return (1 if n % 10 == 0 else 0) + count_zeroes(n // 10)\n",
    "count_zeroes(10)"
   ]
  },
  {
   "cell_type": "code",
   "execution_count": 25,
   "id": "28e657f5-1879-4b44-964d-0718364c3ef6",
   "metadata": {},
   "outputs": [
    {
     "data": {
      "text/plain": [
       "3"
      ]
     },
     "execution_count": 25,
     "metadata": {},
     "output_type": "execute_result"
    }
   ],
   "source": [
    "# 7. Sum of first n natural numbers\n",
    "def sum_natural(n):\n",
    "    if n == 1:\n",
    "        return 1\n",
    "    return n + sum_natural(n - 1)\n",
    "sum_natural(2)"
   ]
  },
  {
   "cell_type": "code",
   "execution_count": 27,
   "id": "cdd52a08-0c79-4375-9fa1-7f1a6c47819f",
   "metadata": {},
   "outputs": [
    {
     "data": {
      "text/plain": [
       "2"
      ]
     },
     "execution_count": 27,
     "metadata": {},
     "output_type": "execute_result"
    }
   ],
   "source": [
    "# 8. Count number of digits\n",
    "def count_digits(n):\n",
    "    if n == 0:\n",
    "        return 0\n",
    "    return 1 + count_digits(n // 10)\n",
    "count_digits(10)"
   ]
  },
  {
   "cell_type": "code",
   "execution_count": 33,
   "id": "7b30ca5c-d9e2-4ce4-ba24-755281eb91ad",
   "metadata": {},
   "outputs": [
    {
     "data": {
      "text/plain": [
       "1"
      ]
     },
     "execution_count": 33,
     "metadata": {},
     "output_type": "execute_result"
    }
   ],
   "source": [
    "# 9. Count odd digits\n",
    "def count_odd_digits(n):\n",
    "    if n == 0:\n",
    "        return 0\n",
    "    return (1 if (n % 10) % 2 != 0 else 0) + count_odd_digits(n // 10)\n",
    "count_odd_digits(50)"
   ]
  },
  {
   "cell_type": "code",
   "execution_count": 1,
   "id": "067973de-f782-4b22-95e1-a349752ea1d9",
   "metadata": {},
   "outputs": [
    {
     "data": {
      "text/plain": [
       "5"
      ]
     },
     "execution_count": 1,
     "metadata": {},
     "output_type": "execute_result"
    }
   ],
   "source": [
    "# 10. Find length of a string\n",
    "def string_length(s):\n",
    "    if s == \"\":\n",
    "        return 0\n",
    "    return 1 + string_length(s[1:])\n",
    "string_length(\"Surya\")"
   ]
  },
  {
   "cell_type": "code",
   "execution_count": 3,
   "id": "7a4a3dcd-d352-4de8-ad74-13281f5122c8",
   "metadata": {},
   "outputs": [
    {
     "data": {
      "text/plain": [
       "0"
      ]
     },
     "execution_count": 3,
     "metadata": {},
     "output_type": "execute_result"
    }
   ],
   "source": [
    "# 11. Count digits in a string\n",
    "def count_digits_string(s):\n",
    "    if s == \"\":\n",
    "        return 0\n",
    "    return (1 if s[0].isdigit() else 0) + count_digits_string(s[1:])\n",
    "count_digits_string(\"Surya\")"
   ]
  },
  {
   "cell_type": "code",
   "execution_count": 5,
   "id": "672a2622-3ee2-4852-b744-9b5f45cc7b3b",
   "metadata": {},
   "outputs": [
    {
     "data": {
      "text/plain": [
       "'ayruS'"
      ]
     },
     "execution_count": 5,
     "metadata": {},
     "output_type": "execute_result"
    }
   ],
   "source": [
    "# 12. Reverse a string\n",
    "def reverse_string(s):\n",
    "    if s == \"\":\n",
    "        return \"\"\n",
    "    return reverse_string(s[1:]) + s[0]\n",
    "reverse_string(\"Surya\")"
   ]
  },
  {
   "cell_type": "code",
   "execution_count": 7,
   "id": "466d9346-38e0-4a09-808f-b4697427ecc2",
   "metadata": {},
   "outputs": [
    {
     "data": {
      "text/plain": [
       "3"
      ]
     },
     "execution_count": 7,
     "metadata": {},
     "output_type": "execute_result"
    }
   ],
   "source": [
    "# 13. Count vowels in a string\n",
    "def count_vowels(s):\n",
    "    if s == \"\":\n",
    "        return 0\n",
    "    return (1 if s[0] in \"aeiouAEIOU\" else 0) + count_vowels(s[1:])\n",
    "count_vowels(\"Elephant\")"
   ]
  },
  {
   "cell_type": "code",
   "execution_count": 3,
   "id": "9680f6be-90f0-44d7-80fa-9ceeb0b41442",
   "metadata": {},
   "outputs": [
    {
     "name": "stdin",
     "output_type": "stream",
     "text": [
      "Enter any number:  2\n"
     ]
    },
    {
     "name": "stdout",
     "output_type": "stream",
     "text": [
      "Factorial output: 2\n"
     ]
    }
   ],
   "source": [
    "def factorial(num):\n",
    "    if num == 0:\n",
    "        return 1\n",
    "    else:\n",
    "        return num*factorial(num-1)\n",
    "n = int(input(\"Enter any number: \"))\n",
    "fact = factorial(n)\n",
    "print(\"Factorial output:\",fact)"
   ]
  },
  {
   "cell_type": "code",
   "execution_count": 7,
   "id": "cbdc2e96-95d0-4803-a322-8f52c885184c",
   "metadata": {},
   "outputs": [
    {
     "name": "stdin",
     "output_type": "stream",
     "text": [
      "Enter any number: 2\n",
      "Enter exponent: 5\n"
     ]
    },
    {
     "name": "stdout",
     "output_type": "stream",
     "text": [
      "Result: 32\n"
     ]
    }
   ],
   "source": [
    "def power(a,b):\n",
    "    if b == 0:\n",
    "        return 1\n",
    "    else:\n",
    "        return a*power(a,b-1)\n",
    "num = int(input(\"Enter any number:\"))\n",
    "exp = int(input(\"Enter exponent:\"))\n",
    "result = power(num,exp)\n",
    "print(\"Result:\",result)"
   ]
  },
  {
   "cell_type": "code",
   "execution_count": 9,
   "id": "a53ea162-e41e-4e44-88eb-09df60f03510",
   "metadata": {},
   "outputs": [
    {
     "name": "stdout",
     "output_type": "stream",
     "text": [
      "Fibonacci number at position 5 is 3\n"
     ]
    }
   ],
   "source": [
    "def fibonacci(n):\n",
    "# Base case\n",
    "    if n < 1:\n",
    "        return -1\n",
    "    elif n==1:\n",
    "        return 0\n",
    "    elif n==2:\n",
    "        return 1\n",
    "# Recursive case (binary recursion)\n",
    "    else:\n",
    "        return fibonacci(n-1) + fibonacci(n-2)\n",
    "# Example usage\n",
    "n = 5 # Change this value to test other positions\n",
    "print(f\"Fibonacci number at position {n} is {fibonacci(n)}\")"
   ]
  },
  {
   "cell_type": "code",
   "execution_count": 13,
   "id": "96b1afbd-5786-459e-b10a-51fe6a910951",
   "metadata": {},
   "outputs": [
    {
     "name": "stdout",
     "output_type": "stream",
     "text": [
      "The number is odd\n"
     ]
    }
   ],
   "source": [
    "def iseven(n):\n",
    "# Base case for even number\n",
    "    if n == 0:\n",
    "        return True\n",
    "# Base case for odd number\n",
    "    elif n == 1:\n",
    "        return False\n",
    "# Recursive case\n",
    "    elif n > 1:\n",
    "        return isodd(n - 1)\n",
    "# Handle negative numbers\n",
    "    elif n < 0:\n",
    "        return iseven(-n)\n",
    "def isodd(n):\n",
    "    return not iseven(n)\n",
    "# Input from the user\n",
    "num = -5\n",
    "if iseven(num):\n",
    "    print(\"The number is even\")\n",
    "else:\n",
    "    print(\"The number is odd\")"
   ]
  },
  {
   "cell_type": "code",
   "execution_count": null,
   "id": "21566b79-4b76-4d70-b104-2dfd00616351",
   "metadata": {},
   "outputs": [],
   "source": []
  }
 ],
 "metadata": {
  "kernelspec": {
   "display_name": "Python 3 (ipykernel)",
   "language": "python",
   "name": "python3"
  },
  "language_info": {
   "codemirror_mode": {
    "name": "ipython",
    "version": 3
   },
   "file_extension": ".py",
   "mimetype": "text/x-python",
   "name": "python",
   "nbconvert_exporter": "python",
   "pygments_lexer": "ipython3",
   "version": "3.12.4"
  }
 },
 "nbformat": 4,
 "nbformat_minor": 5
}
